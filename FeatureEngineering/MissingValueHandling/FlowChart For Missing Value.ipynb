{
 "cells": [
  {
   "cell_type": "markdown",
   "id": "801ee49b-a03a-4b3b-b0f9-1b29849067a1",
   "metadata": {
    "jp-MarkdownHeadingCollapsed": true
   },
   "source": [
    "# 🧠 Missing Data Imputation Techniques\n",
    "\n",
    "| Technique                    | Type         | Data Type         | Description                                                                 |\n",
    "|-----------------------------|--------------|-------------------|-----------------------------------------------------------------------------|\n",
    "| Drop rows (`dropna`)        | Univariate   | Both              | Removes rows where values are missing                                       |\n",
    "| Mean imputation             | Univariate   | Numerical         | Replaces missing values with the column mean                               |\n",
    "| Median imputation           | Univariate   | Numerical         | Replaces missing values with the column median                             |\n",
    "| Mode imputation             | Univariate   | Categorical/Numerical | Replaces missing values with the most frequent value                     |\n",
    "| Constant value imputation   | Univariate   | Both              | Fills missing values with a specified value (e.g. -999, \"missing\")         |\n",
    "| Interpolation               | Univariate   | Numerical (esp. time-series) | Fills in missing values based on interpolation over an index or time  |\n",
    "| KNN imputation              | Multivariate | Both              | Imputes missing values using nearest neighbors based on other features     |\n",
    "| Regression imputation       | Multivariate | Numerical         | Predicts missing values using a regression model trained on other columns  |\n",
    "| MICE (Multiple Imputation)  | Multivariate | Both              | Iteratively imputes each column using all others (chained equations)       |\n",
    "| Matrix factorization        | Multivariate | Numerical         | Decomposes data into low-dimensional matrices to estimate missing entries  |\n",
    "| Autoencoder (Deep learning) | Multivariate | Numerical         | Learns representations of data to reconstruct and impute missing values    |\n"
   ]
  },
  {
   "cell_type": "code",
   "execution_count": null,
   "id": "524fd8b9-fbbe-429c-9c35-d8ecedca6865",
   "metadata": {},
   "outputs": [],
   "source": []
  }
 ],
 "metadata": {
  "kernelspec": {
   "display_name": "demo",
   "language": "python",
   "name": "demo"
  },
  "language_info": {
   "codemirror_mode": {
    "name": "ipython",
    "version": 3
   },
   "file_extension": ".py",
   "mimetype": "text/x-python",
   "name": "python",
   "nbconvert_exporter": "python",
   "pygments_lexer": "ipython3",
   "version": "3.13.2"
  }
 },
 "nbformat": 4,
 "nbformat_minor": 5
}
