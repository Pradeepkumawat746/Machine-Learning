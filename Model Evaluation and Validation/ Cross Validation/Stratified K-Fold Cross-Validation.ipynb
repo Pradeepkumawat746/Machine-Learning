{
 "cells": [
  {
   "cell_type": "markdown",
   "id": "d1fedda0-f4c3-45aa-bb1d-29679a76c2b7",
   "metadata": {},
   "source": [
    "# Explanation of Stratified K-Fold Cross-Validation\n",
    "Stratified K-Fold Cross-Validation is a variant of K-Fold Cross-Validation that ensures each fold is representative of the overall class distribution. This means that each fold maintains the same proportion of classes as the entire dataset. This method is particularly useful for imbalanced datasets, where some classes are underrepresented. By preserving the class distribution in each fold, Stratified K-Fold Cross-Validation provides more reliable and unbiased estimates of model performance, especially for classification tasks involving imbalanced data.\n",
    "\n",
    "\n",
    "# Use Cases\n",
    "**Imbalanced Datasets**: When dealing with datasets where the number of samples in each class is not evenly distributed, using regular K-Fold Cross-Validation may lead to folds that do not represent the overall distribution of the classes. Stratified K-Fold ensures that each fold has the same class proportions as the entire dataset, providing a more accurate assessment of model performance.\n",
    "\n",
    "-\n",
    "**Classification Tasks**: For classification tasks, especially multi-class classification, it is crucial to have each class represented proportionally in both the training and validation sets. This helps in achieving a more balanced evaluation of the model's performance across all classes.\n",
    "\n",
    "-\n",
    "**Small Datasets**: When working with small datasets, maintaining class proportions in each fold is essential to ensure that the evaluation metrics are not skewed by the small sample size. Stratified K-Fold Cross-Validation helps in maximizing the use of available data while preserving the class distribution.\n",
    "\n",
    "\n"
   ]
  },
  {
   "cell_type": "code",
   "execution_count": 1,
   "id": "8e1ad541-0694-4d58-8313-6cadc76a7743",
   "metadata": {},
   "outputs": [],
   "source": [
    "from sklearn.datasets import load_iris\n",
    "from sklearn.model_selection import StratifiedKFold, cross_val_score\n",
    "from sklearn.tree import DecisionTreeClassifier"
   ]
  },
  {
   "cell_type": "code",
   "execution_count": 2,
   "id": "3c910bb8-0054-4559-a117-8a86486c80e0",
   "metadata": {},
   "outputs": [],
   "source": [
    "# Load the dataset\n",
    "iris = load_iris()\n",
    "X = iris.data\n",
    "y = iris.target"
   ]
  },
  {
   "cell_type": "code",
   "execution_count": 4,
   "id": "a7fd705f-162e-41db-9ad0-7fdf1869221b",
   "metadata": {},
   "outputs": [],
   "source": [
    "# Initialize the Stratified K-Fold cross-validator\n",
    "skf = StratifiedKFold(n_splits=5, shuffle=True, random_state=42)"
   ]
  },
  {
   "cell_type": "code",
   "execution_count": 5,
   "id": "56fa38d3-90b9-4087-b092-1e919f4fd25f",
   "metadata": {},
   "outputs": [
    {
     "name": "stdout",
     "output_type": "stream",
     "text": [
      "Stratified Cross-Validation Scores: [1.         0.96666667 0.93333333 0.96666667 0.9       ]\n",
      "Mean Accuracy: 0.9533333333333335\n",
      "Standard Deviation: 0.03399346342395189\n"
     ]
    }
   ],
   "source": [
    "# Initialize the model\n",
    "model = DecisionTreeClassifier()\n",
    "\n",
    "# Perform Stratified K-Fold Cross-Validation\n",
    "stratified_scores = cross_val_score(model, X, y, cv=skf, scoring='accuracy')\n",
    "\n",
    "# Print the stratified cross-validation scores\n",
    "print(\"Stratified Cross-Validation Scores:\", stratified_scores)\n",
    "print(\"Mean Accuracy:\", stratified_scores.mean())\n",
    "print(\"Standard Deviation:\", stratified_scores.std())"
   ]
  },
  {
   "cell_type": "markdown",
   "id": "c54429eb-59b3-455c-97e2-c1f68979f77d",
   "metadata": {},
   "source": [
    "# Conclusion\n",
    "Stratified K-Fold Cross-Validation is an essential technique for evaluating machine learning models, particularly when dealing with imbalanced datasets. By ensuring each fold has the same class distribution as the entire dataset, it provides more reliable and unbiased estimates of model performance. This method is especially beneficial for classification tasks and small datasets where maintaining class proportions is crucial. Implementing Stratified K-Fold Cross-Validation in Python using libraries like Scikit-learn allows for robust and efficient model evaluation, leading to better-performing models."
   ]
  },
  {
   "cell_type": "code",
   "execution_count": null,
   "id": "3be5f8eb-f7bc-4158-906b-971128726903",
   "metadata": {},
   "outputs": [],
   "source": []
  }
 ],
 "metadata": {
  "kernelspec": {
   "display_name": "demo",
   "language": "python",
   "name": "demo"
  },
  "language_info": {
   "codemirror_mode": {
    "name": "ipython",
    "version": 3
   },
   "file_extension": ".py",
   "mimetype": "text/x-python",
   "name": "python",
   "nbconvert_exporter": "python",
   "pygments_lexer": "ipython3",
   "version": "3.13.2"
  }
 },
 "nbformat": 4,
 "nbformat_minor": 5
}
